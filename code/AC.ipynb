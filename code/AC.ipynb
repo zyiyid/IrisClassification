{
 "cells": [
  {
   "cell_type": "code",
   "execution_count": 38,
   "id": "5ee46160",
   "metadata": {},
   "outputs": [],
   "source": [
    "import numpy as np\n",
    "import pandas as pd\n",
    "import matplotlib.pyplot as plt\n",
    "from matplotlib.colors import ListedColormap\n",
    "from matplotlib.font_manager import FontProperties\n",
    "from sklearn import datasets\n",
    "from sklearn.tree import DecisionTreeClassifier \n",
    "from sklearn.svm import SVC\n",
    "from sklearn.linear_model import LogisticRegression\n",
    "from sklearn.naive_bayes import GaussianNB\n",
    "from sklearn.cluster import KMeans\n",
    "from sklearn import metrics\n",
    "%matplotlib inline\n",
    "plt.rcParams['font.sans-serif'] = ['SimHei'] \n",
    "plt.rcParams['axes.unicode_minus'] = False\n",
    "#sns.set(font='SimHei')"
   ]
  },
  {
   "cell_type": "code",
   "execution_count": 39,
   "id": "866e92d8",
   "metadata": {},
   "outputs": [],
   "source": [
    "from sklearn.datasets import load_iris\n",
    "data = load_iris()\n",
    "iris_target = data.target\n",
    "iris_features = pd.DataFrame(data.data,columns=data.feature_names)"
   ]
  },
  {
   "cell_type": "code",
   "execution_count": 40,
   "id": "1099570a",
   "metadata": {},
   "outputs": [],
   "source": [
    "#划分数据集\n",
    "from sklearn.model_selection import train_test_split\n",
    "# 分割数据集\n",
    "data_train_x,data_test_x, data_train_y,data_test_y = train_test_split(iris_features,iris_target,test_size=0.2,random_state = 2020)"
   ]
  },
  {
   "cell_type": "code",
   "execution_count": 41,
   "id": "d2a05fb0",
   "metadata": {},
   "outputs": [
    {
     "data": {
      "text/plain": [
       "LogisticRegression(random_state=0)"
      ]
     },
     "execution_count": 41,
     "metadata": {},
     "output_type": "execute_result"
    }
   ],
   "source": [
    "clfLR = LogisticRegression(random_state=0,solver='lbfgs')\n",
    "#训练模型\n",
    "clfLR.fit(data_train_x,data_train_y)\n",
    "# LogisticRegression(C=1.0, class_weight=None, dual=False, fit_intercept=True,\n",
    "#                    intercept_scaling=1, l1_ratio=None, max_iter=100,\n",
    "#                    multi_class='warn', n_jobs=None, penalty='l2',\n",
    "#                    random_state=0, solver='lbfgs', tol=0.0001, verbose=0,\n",
    "#                    warm_start=False)"
   ]
  },
  {
   "cell_type": "code",
   "execution_count": 42,
   "id": "6c38f5b8",
   "metadata": {},
   "outputs": [],
   "source": [
    "train_predict = clfLR.predict(data_train_x)\n",
    "test_predict = clfLR.predict(data_test_x)"
   ]
  },
  {
   "cell_type": "code",
   "execution_count": 43,
   "id": "b2f44d63",
   "metadata": {},
   "outputs": [
    {
     "name": "stdout",
     "output_type": "stream",
     "text": [
      "使用LogisticRegression训练集的准确度 0.9833333333333333\n",
      "使用LogisticRegression测试集的准确度 0.8666666666666667\n"
     ]
    }
   ],
   "source": [
    "print('使用LogisticRegression训练集的准确度',metrics.accuracy_score(data_train_y,train_predict))\n",
    "print('使用LogisticRegression测试集的准确度',metrics.accuracy_score(data_test_y,test_predict))"
   ]
  },
  {
   "cell_type": "code",
   "execution_count": 44,
   "id": "a1b53a72",
   "metadata": {},
   "outputs": [],
   "source": [
    "svm = SVC(C=1, kernel='rbf', gamma=1).fit(data_train_x,data_train_y)\n",
    "# SVC(C=1, cache_size=200, class_weight=None, coef0=0.0,\n",
    "#   decision_function_shape='ovr', degree=3, gamma=1, kernel='rbf',\n",
    "#   max_iter=-1, probability=False, random_state=1, shrinking=True,\n",
    "#   tol=0.001, verbose=False)"
   ]
  },
  {
   "cell_type": "code",
   "execution_count": 45,
   "id": "aaf45187",
   "metadata": {},
   "outputs": [],
   "source": [
    "train_predict = svm.predict(data_train_x)\n",
    "test_predict = svm.predict(data_test_x)"
   ]
  },
  {
   "cell_type": "code",
   "execution_count": 46,
   "id": "8f4d320c",
   "metadata": {},
   "outputs": [
    {
     "name": "stdout",
     "output_type": "stream",
     "text": [
      "使用SVM训练集的准确度 0.9916666666666667\n",
      "使用SVM测试集的准确度 0.8666666666666667\n"
     ]
    }
   ],
   "source": [
    "print('使用SVM训练集的准确度',metrics.accuracy_score(data_train_y,train_predict))\n",
    "print('使用SVM测试集的准确度',metrics.accuracy_score(data_test_y,test_predict))"
   ]
  },
  {
   "cell_type": "code",
   "execution_count": 47,
   "id": "626fa2a9",
   "metadata": {},
   "outputs": [
    {
     "data": {
      "text/plain": [
       "DecisionTreeClassifier()"
      ]
     },
     "execution_count": 47,
     "metadata": {},
     "output_type": "execute_result"
    }
   ],
   "source": [
    "clfTree = DecisionTreeClassifier()\n",
    "clfTree.fit(data_train_x,data_train_y)"
   ]
  },
  {
   "cell_type": "code",
   "execution_count": 48,
   "id": "7c5f61fd",
   "metadata": {},
   "outputs": [],
   "source": [
    "train_predict = clfTree.predict(data_train_x)\n",
    "test_predict = clfTree.predict(data_test_x)"
   ]
  },
  {
   "cell_type": "code",
   "execution_count": 49,
   "id": "8020cf5d",
   "metadata": {},
   "outputs": [
    {
     "name": "stdout",
     "output_type": "stream",
     "text": [
      "使用DecisionTree训练集的准确度 1.0\n",
      "使用DecisionTree测试集的准确度 0.8666666666666667\n"
     ]
    }
   ],
   "source": [
    "print('使用DecisionTree训练集的准确度',metrics.accuracy_score(data_train_y,train_predict))\n",
    "print('使用DecisionTree测试集的准确度',metrics.accuracy_score(data_test_y,test_predict))"
   ]
  },
  {
   "cell_type": "code",
   "execution_count": 50,
   "id": "1d22d6b8",
   "metadata": {},
   "outputs": [
    {
     "data": {
      "text/plain": [
       "GaussianNB()"
      ]
     },
     "execution_count": 50,
     "metadata": {},
     "output_type": "execute_result"
    }
   ],
   "source": [
    "clfGNB = GaussianNB()\n",
    "clfGNB.fit(data_train_x,data_train_y)"
   ]
  },
  {
   "cell_type": "code",
   "execution_count": 51,
   "id": "92215251",
   "metadata": {},
   "outputs": [],
   "source": [
    "train_predict = clfGNB.predict(data_train_x)\n",
    "test_predict = clfGNB.predict(data_test_x)"
   ]
  },
  {
   "cell_type": "code",
   "execution_count": 52,
   "id": "c79d6ce0",
   "metadata": {},
   "outputs": [
    {
     "name": "stdout",
     "output_type": "stream",
     "text": [
      "使用GaussianNB训练集的准确度 0.9833333333333333\n",
      "使用GaussianNB测试集的准确度 0.8333333333333334\n"
     ]
    }
   ],
   "source": [
    "print('使用GaussianNB训练集的准确度',metrics.accuracy_score(data_train_y,train_predict))\n",
    "print('使用GaussianNB测试集的准确度',metrics.accuracy_score(data_test_y,test_predict))"
   ]
  },
  {
   "cell_type": "code",
   "execution_count": 53,
   "id": "07fdbbc3",
   "metadata": {},
   "outputs": [
    {
     "data": {
      "text/plain": [
       "KMeans()"
      ]
     },
     "execution_count": 53,
     "metadata": {},
     "output_type": "execute_result"
    }
   ],
   "source": [
    "clfKM = KMeans()\n",
    "clfKM.fit(data_train_x,data_train_y)"
   ]
  },
  {
   "cell_type": "code",
   "execution_count": 54,
   "id": "e0e7f85e",
   "metadata": {},
   "outputs": [],
   "source": [
    "train_predict = clfGNB.predict(data_train_x)\n",
    "test_predict = clfGNB.predict(data_test_x)"
   ]
  },
  {
   "cell_type": "code",
   "execution_count": 55,
   "id": "6efbaea8",
   "metadata": {},
   "outputs": [
    {
     "name": "stdout",
     "output_type": "stream",
     "text": [
      "使用KMeans训练集的准确度 0.9833333333333333\n",
      "使用KMeans测试集的准确度 0.8333333333333334\n"
     ]
    }
   ],
   "source": [
    "print('使用KMeans训练集的准确度',metrics.accuracy_score(data_train_y,train_predict))\n",
    "print('使用KMeans测试集的准确度',metrics.accuracy_score(data_test_y,test_predict))"
   ]
  },
  {
   "cell_type": "code",
   "execution_count": null,
   "id": "182ebe4f",
   "metadata": {},
   "outputs": [],
   "source": []
  }
 ],
 "metadata": {
  "kernelspec": {
   "display_name": "Python 3",
   "language": "python",
   "name": "python3"
  },
  "language_info": {
   "codemirror_mode": {
    "name": "ipython",
    "version": 3
   },
   "file_extension": ".py",
   "mimetype": "text/x-python",
   "name": "python",
   "nbconvert_exporter": "python",
   "pygments_lexer": "ipython3",
   "version": "3.8.8"
  }
 },
 "nbformat": 4,
 "nbformat_minor": 5
}
